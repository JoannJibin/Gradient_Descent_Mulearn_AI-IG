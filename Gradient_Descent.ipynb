{
  "nbformat": 4,
  "nbformat_minor": 0,
  "metadata": {
    "colab": {
      "provenance": [],
      "gpuType": "T4",
      "authorship_tag": "ABX9TyPzRsLVdHs0Dv4NWH3behxJ",
      "include_colab_link": true
    },
    "kernelspec": {
      "name": "python3",
      "display_name": "Python 3"
    },
    "language_info": {
      "name": "python"
    },
    "accelerator": "GPU"
  },
  "cells": [
    {
      "cell_type": "markdown",
      "metadata": {
        "id": "view-in-github",
        "colab_type": "text"
      },
      "source": [
        "<a href=\"https://colab.research.google.com/github/JoannJibin/Gradient_Descent_Mulearn_AI-IG/blob/main/Gradient_Descent.ipynb\" target=\"_parent\"><img src=\"https://colab.research.google.com/assets/colab-badge.svg\" alt=\"Open In Colab\"/></a>"
      ]
    },
    {
      "cell_type": "code",
      "execution_count": 32,
      "metadata": {
        "id": "HbNjQ7EhC3EY"
      },
      "outputs": [],
      "source": [
        "import torch\n",
        "import torch.nn.functional as F\n",
        "import matplotlib.pyplot as plt\n"
      ]
    },
    {
      "cell_type": "code",
      "source": [
        "# random seed for reproducibility\n",
        "torch.manual_seed(0)\n"
      ],
      "metadata": {
        "colab": {
          "base_uri": "https://localhost:8080/"
        },
        "id": "pHoVOebpC_7E",
        "outputId": "e1c0af03-9a58-4f28-e866-8e80c8d2cfef"
      },
      "execution_count": 33,
      "outputs": [
        {
          "output_type": "execute_result",
          "data": {
            "text/plain": [
              "<torch._C.Generator at 0x7d8dd421b350>"
            ]
          },
          "metadata": {},
          "execution_count": 33
        }
      ]
    },
    {
      "cell_type": "code",
      "source": [
        "# true coefficients for the cubic equation\n",
        "a_true = float(input(\"Value for a: \"))\n",
        "b_true = float(input(\"Value for a: \"))\n",
        "c_true = float(input(\"Value for a: \"))\n",
        "d_true = float(input(\"Value for a: \"))\n"
      ],
      "metadata": {
        "colab": {
          "base_uri": "https://localhost:8080/"
        },
        "id": "5osIWpwnDcVM",
        "outputId": "bd59b7ad-65bc-4d86-e73c-b352cd9cce7a"
      },
      "execution_count": 43,
      "outputs": [
        {
          "name": "stdout",
          "output_type": "stream",
          "text": [
            "Value for a: -1.2\n",
            "Value for a: 0.9\n",
            "Value for a: -0.5\n",
            "Value for a: 2.5\n"
          ]
        }
      ]
    },
    {
      "cell_type": "code",
      "source": [
        "#training data\n",
        "x = torch.linspace(-2, 2, 200)\n",
        "y = a_true * x**3 + b_true * x**2 + c_true * x + d_true\n",
        "y = F.relu(y)  # Apply ReLU\n"
      ],
      "metadata": {
        "id": "1zL8f06LDiix"
      },
      "execution_count": 44,
      "outputs": []
    },
    {
      "cell_type": "code",
      "source": [
        "# Initialize random parameters to learn\n",
        "a = torch.randn(1, requires_grad=True)\n",
        "b = torch.randn(1, requires_grad=True)\n",
        "c = torch.randn(1, requires_grad=True)\n",
        "d = torch.randn(1, requires_grad=True)\n"
      ],
      "metadata": {
        "id": "BBITMh3gDkEq"
      },
      "execution_count": 45,
      "outputs": []
    },
    {
      "cell_type": "code",
      "source": [
        "# Set hyperparameters\n",
        "learning_rate = 0.01\n",
        "epochs = 3000"
      ],
      "metadata": {
        "id": "wYCxeChpEHiY"
      },
      "execution_count": 46,
      "outputs": []
    },
    {
      "cell_type": "code",
      "source": [
        "# Train using stochastic gradient descent\n",
        "for epoch in range(epochs):\n",
        "    # Forward pass with ReLU\n",
        "    y_pred = F.relu(a * x**3 + b * x**2 + c * x + d)\n",
        "\n",
        "    # Compute Mean Squared Error\n",
        "    loss = F.mse_loss(y_pred, y)\n",
        "\n",
        "    # Backward pass\n",
        "    loss.backward()\n",
        "\n",
        "    # Update parameters manually\n",
        "    with torch.no_grad():\n",
        "        a -= learning_rate * a.grad\n",
        "        b -= learning_rate * b.grad\n",
        "        c -= learning_rate * c.grad\n",
        "        d -= learning_rate * d.grad\n",
        "\n",
        "        # Reset gradients to zero\n",
        "        a.grad.zero_()\n",
        "        b.grad.zero_()\n",
        "        c.grad.zero_()\n",
        "        d.grad.zero_()\n",
        "\n",
        "    # printing loss every 500 epochs\n",
        "    if epoch % 500 == 0:\n",
        "        print(f\"Epoch {epoch}, Loss = {loss.item():.4f}\")"
      ],
      "metadata": {
        "colab": {
          "base_uri": "https://localhost:8080/"
        },
        "id": "4h3o8uiyEKSx",
        "outputId": "26113a0e-2ccf-4202-e380-0177be7eb2ae"
      },
      "execution_count": 47,
      "outputs": [
        {
          "output_type": "stream",
          "name": "stdout",
          "text": [
            "Epoch 0, Loss = 24.6060\n",
            "Epoch 500, Loss = 0.0619\n",
            "Epoch 1000, Loss = 0.0081\n",
            "Epoch 1500, Loss = 0.0010\n",
            "Epoch 2000, Loss = 0.0001\n",
            "Epoch 2500, Loss = 0.0000\n"
          ]
        }
      ]
    },
    {
      "cell_type": "code",
      "source": [
        "#Final learned values\n",
        "print(\"\\nLearned Coefficients:\")\n",
        "print(f\"a = {a.item():.4f}\")\n",
        "print(f\"b = {b.item():.4f}\")\n",
        "print(f\"c = {c.item():.4f}\")\n",
        "print(f\"d = {d.item():.4f}\")\n",
        "\n"
      ],
      "metadata": {
        "colab": {
          "base_uri": "https://localhost:8080/"
        },
        "id": "o7dYdM6bEMWM",
        "outputId": "2b03f430-8c5a-4de3-ca58-430e6f727449"
      },
      "execution_count": 48,
      "outputs": [
        {
          "output_type": "stream",
          "name": "stdout",
          "text": [
            "\n",
            "Learned Coefficients:\n",
            "a = -1.2016\n",
            "b = 0.8985\n",
            "c = -0.4972\n",
            "d = 2.5012\n"
          ]
        }
      ]
    },
    {
      "cell_type": "code",
      "source": [
        "# true vs predicted curve\n",
        "plt.plot(x, y, label=\"True\", linewidth=2)\n",
        "plt.plot(x, y_pred.detach(), label=\"Predicted\", linestyle=\"--\")\n",
        "plt.legend()\n",
        "plt.title(\"Cubic Function Learned via SGD + ReLU\")\n",
        "plt.grid(True)\n",
        "plt.show()\n"
      ],
      "metadata": {
        "colab": {
          "base_uri": "https://localhost:8080/",
          "height": 452
        },
        "id": "OI5PotO2Fp1d",
        "outputId": "c040a9df-6dbb-4a13-af1d-e135755dd724"
      },
      "execution_count": 49,
      "outputs": [
        {
          "output_type": "display_data",
          "data": {
            "text/plain": [
              "<Figure size 640x480 with 1 Axes>"
            ],
            "image/png": "[encoded data removed]"
          },
          "metadata": {}
        }
      ]
    },
    {
      "cell_type": "code",
      "source": [],
      "metadata": {
        "id": "OFvjFAQjFrxI"
      },
      "execution_count": 40,
      "outputs": []
    }
  ]
}